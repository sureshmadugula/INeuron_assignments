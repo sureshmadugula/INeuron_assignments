{
 "cells": [
  {
   "cell_type": "code",
   "execution_count": 81,
   "metadata": {},
   "outputs": [
    {
     "name": "stdout",
     "output_type": "stream",
     "text": [
      "sum and multiple result 19 252\n"
     ]
    }
   ],
   "source": [
    "def do_sum(x1, x2): return int(x1) + int(x2)\n",
    "def do_mul(x1, x2): return int(x1) * int(x2)\n",
    "\n",
    "def my_reduce(my_function,my_seq):\n",
    "    if len(my_seq)>0: \n",
    "        result=my_seq[0]\n",
    "        for num in my_seq[1:]:  \n",
    "            result = my_function(result,int(num))\n",
    "        return result                \n",
    "    else:\n",
    "        print(\"list is empyt\")           \n",
    "  \n",
    "        \n",
    "my_list = ['1','7','6','2','3']\n",
    "\n",
    "sum_result=my_reduce(do_sum,my_list)    \n",
    "mul_result=my_reduce(do_mul,my_list) \n",
    "\n",
    "print(\"sum and multiple result\",sum_result,mul_result)"
   ]
  },
  {
   "cell_type": "code",
   "execution_count": 4,
   "metadata": {},
   "outputs": [
    {
     "name": "stdout",
     "output_type": "stream",
     "text": [
      "[6]\n"
     ]
    }
   ],
   "source": [
    "def check_even(variable):    \n",
    "    if (variable %2==0): \n",
    "        return True \n",
    "    else: \n",
    "        return False\n",
    "    \n",
    "def my_filter(my_function,my_seq):    \n",
    "    outputlist=[]    \n",
    "    for num in my_seq:\n",
    "        if my_function(num):         \n",
    "            outputlist.append(num)         \n",
    "        \n",
    "    return outputlist                    \n",
    "    \n",
    "mylist=[1,6,7,9,11]          \n",
    "result = my_filter(check_even, mylist)    \n",
    "print(result)"
   ]
  },
  {
   "cell_type": "code",
   "execution_count": 84,
   "metadata": {},
   "outputs": [
    {
     "data": {
      "text/plain": [
       "['x', 'xx', 'xxx', 'xxxx', 'y', 'yy', 'yyy', 'yyyy', 'z', 'zz', 'zzz', 'zzzz']"
      ]
     },
     "execution_count": 84,
     "metadata": {},
     "output_type": "execute_result"
    }
   ],
   "source": [
    "pattern=[i*j for i in ['x','y','z']  for j in range(1,5) ]\n",
    "pattern"
   ]
  },
  {
   "cell_type": "code",
   "execution_count": 103,
   "metadata": {
    "scrolled": true
   },
   "outputs": [
    {
     "data": {
      "text/plain": [
       "['x', 'y', 'z', 'xx', 'yy', 'zz', 'xxx', 'yyy', 'zzz', 'xxxx', 'yyyy', 'zzzz']"
      ]
     },
     "execution_count": 103,
     "metadata": {},
     "output_type": "execute_result"
    }
   ],
   "source": [
    "pattern=[i*j for i in range(1,5)  for j in ['x','y','z']]\n",
    "pattern"
   ]
  },
  {
   "cell_type": "code",
   "execution_count": 107,
   "metadata": {},
   "outputs": [
    {
     "data": {
      "text/plain": [
       "[[2], [3], [4], [3], [4], [5], [4], [5], [6]]"
      ]
     },
     "execution_count": 107,
     "metadata": {},
     "output_type": "execute_result"
    }
   ],
   "source": [
    "pattern=[[i+j] for i in range(1,4) for j in range(1,4)]\n",
    "pattern"
   ]
  },
  {
   "cell_type": "code",
   "execution_count": 102,
   "metadata": {},
   "outputs": [
    {
     "data": {
      "text/plain": [
       "[[2, 3, 4, 5], [3, 4, 5, 6], [4, 5, 6, 7], [5, 6, 7, 8]]"
      ]
     },
     "execution_count": 102,
     "metadata": {},
     "output_type": "execute_result"
    }
   ],
   "source": [
    "pattern=[[i+j for j in range(1,5)] for i in range(1,5)]\n",
    "pattern"
   ]
  },
  {
   "cell_type": "code",
   "execution_count": 91,
   "metadata": {},
   "outputs": [
    {
     "data": {
      "text/plain": [
       "[(1, 1), (1, 2), (1, 3), (2, 1), (2, 2), (2, 3), (3, 1), (3, 2), (3, 3)]"
      ]
     },
     "execution_count": 91,
     "metadata": {},
     "output_type": "execute_result"
    }
   ],
   "source": [
    "pattern=[(i,j) for i in range(1,4) for j in range(1,4)]\n",
    "pattern"
   ]
  },
  {
   "cell_type": "code",
   "execution_count": null,
   "metadata": {},
   "outputs": [],
   "source": []
  }
 ],
 "metadata": {
  "kernelspec": {
   "display_name": "Python 3",
   "language": "python",
   "name": "python3"
  },
  "language_info": {
   "codemirror_mode": {
    "name": "ipython",
    "version": 3
   },
   "file_extension": ".py",
   "mimetype": "text/x-python",
   "name": "python",
   "nbconvert_exporter": "python",
   "pygments_lexer": "ipython3",
   "version": "3.7.6"
  }
 },
 "nbformat": 4,
 "nbformat_minor": 4
}
